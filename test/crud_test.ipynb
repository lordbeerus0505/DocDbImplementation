{
 "cells": [
  {
   "cell_type": "code",
   "execution_count": 1,
   "metadata": {},
   "outputs": [],
   "source": [
    "\n",
    "import sys\n",
    "sys.path.append('../')\n",
    "from memory import DatabaseStorage\n",
    "from crud.insert import Insert\n",
    "from crud.update import Update\n",
    "from crud.delete import Delete"
   ]
  },
  {
   "cell_type": "code",
   "execution_count": 2,
   "metadata": {},
   "outputs": [],
   "source": [
    "# Create a database and a collection\n",
    "db = DatabaseStorage(database_location='./', database_name='CS541DB', collection_name='Students')"
   ]
  },
  {
   "cell_type": "code",
   "execution_count": 3,
   "metadata": {},
   "outputs": [
    {
     "ename": "Exception",
     "evalue": "Key Conflict, Alter the Primary Key and try again",
     "output_type": "error",
     "traceback": [
      "\u001b[0;31m---------------------------------------------------------------------------\u001b[0m",
      "\u001b[0;31mException\u001b[0m                                 Traceback (most recent call last)",
      "Cell \u001b[0;32mIn[3], line 12\u001b[0m\n\u001b[1;32m      2\u001b[0m ins \u001b[39m=\u001b[39m Insert()\n\u001b[1;32m      3\u001b[0m payload \u001b[39m=\u001b[39m {\n\u001b[1;32m      4\u001b[0m     \u001b[39m'\u001b[39m\u001b[39mname\u001b[39m\u001b[39m'\u001b[39m : \u001b[39m'\u001b[39m\u001b[39mPeter\u001b[39m\u001b[39m'\u001b[39m,\n\u001b[1;32m      5\u001b[0m     \u001b[39m'\u001b[39m\u001b[39mage\u001b[39m\u001b[39m'\u001b[39m : \u001b[39m24\u001b[39m,\n\u001b[0;32m   (...)\u001b[0m\n\u001b[1;32m     10\u001b[0m     \u001b[39m'\u001b[39m\u001b[39m_id\u001b[39m\u001b[39m'\u001b[39m : \u001b[39m'\u001b[39m\u001b[39mprimary_key_unique_857893127\u001b[39m\u001b[39m'\u001b[39m\n\u001b[1;32m     11\u001b[0m }\n\u001b[0;32m---> 12\u001b[0m ins\u001b[39m.\u001b[39;49minsert_one(database\u001b[39m=\u001b[39;49m\u001b[39m'\u001b[39;49m\u001b[39mCS541DB\u001b[39;49m\u001b[39m'\u001b[39;49m, collection_name\u001b[39m=\u001b[39;49m\u001b[39m'\u001b[39;49m\u001b[39mStudents\u001b[39;49m\u001b[39m'\u001b[39;49m, payload\u001b[39m=\u001b[39;49mpayload)\n",
      "File \u001b[0;32m~/Spring23/databases/project/DocDbImplementation/test/../crud/insert.py:23\u001b[0m, in \u001b[0;36mInsert.insert_one\u001b[0;34m(self, database, collection_name, payload, database_location)\u001b[0m\n\u001b[1;32m     21\u001b[0m \u001b[39mfor\u001b[39;00m i, \u001b[39mid\u001b[39m \u001b[39min\u001b[39;00m \u001b[39menumerate\u001b[39m(db\u001b[39m.\u001b[39mstorage[\u001b[39m'\u001b[39m\u001b[39m_data\u001b[39m\u001b[39m'\u001b[39m]):\n\u001b[1;32m     22\u001b[0m     \u001b[39mif\u001b[39;00m payload[\u001b[39m'\u001b[39m\u001b[39m_id\u001b[39m\u001b[39m'\u001b[39m] \u001b[39m==\u001b[39m \u001b[39mid\u001b[39m:\n\u001b[0;32m---> 23\u001b[0m         \u001b[39mraise\u001b[39;00m \u001b[39mException\u001b[39;00m(\u001b[39m'\u001b[39m\u001b[39mKey Conflict, Alter the Primary Key and try again\u001b[39m\u001b[39m'\u001b[39m)\n\u001b[1;32m     24\u001b[0m \u001b[39mif\u001b[39;00m \u001b[39m'\u001b[39m\u001b[39m_data\u001b[39m\u001b[39m'\u001b[39m \u001b[39mnot\u001b[39;00m \u001b[39min\u001b[39;00m db\u001b[39m.\u001b[39mstorage:\n\u001b[1;32m     25\u001b[0m     \u001b[39mraise\u001b[39;00m \u001b[39mException\u001b[39;00m(\u001b[39m\"\u001b[39m\u001b[39mIssues with the collection\u001b[39m\u001b[39m\"\u001b[39m)\n",
      "\u001b[0;31mException\u001b[0m: Key Conflict, Alter the Primary Key and try again"
     ]
    }
   ],
   "source": [
    "# Insert a single record into the collection\n",
    "ins = Insert()\n",
    "payload = {\n",
    "    'name' : 'Peter',\n",
    "    'age' : 24,\n",
    "    'ssn' : '424-KJ-8123',\n",
    "    'courses_registered' : [\n",
    "        'CS541', 'CS505', 'CS528'\n",
    "    ],\n",
    "    '_id' : 'primary_key_unique_857893127'\n",
    "}\n",
    "ins.insert_one(database='CS541DB', collection_name='Students', payload=payload)"
   ]
  },
  {
   "cell_type": "code",
   "execution_count": 4,
   "metadata": {},
   "outputs": [
    {
     "data": {
      "text/plain": [
       "'OK'"
      ]
     },
     "execution_count": 4,
     "metadata": {},
     "output_type": "execute_result"
    }
   ],
   "source": [
    "# Insert multiples records\n",
    "payload = [\n",
    "    {\n",
    "        'code': 'DocsDBI-1',\n",
    "        'title': 'Implementation of Document Oriented Databases',\n",
    "        'members': ['Tom', 'Jerry', 'Spike']\n",
    "    }, {\n",
    "        'code': 'GraphDB-EG1',\n",
    "        'title': 'Implementation of a Graph DBMS for Road Networks and Points of Interest',\n",
    "        'members': ['Bugs', 'Daffy', 'Donald']\n",
    "    }, {\n",
    "        'code': 'PM1',\n",
    "        'title': 'Studying SSD and Persistent Memory Storage Technologies, Their Properties, and How They affect Database Query Processing and Indexing Techniques',\n",
    "        'members': ['Goku', 'Vegeta', 'Gohan']\n",
    "    }, {\n",
    "        'code': 'AOT',\n",
    "        'title': 'Attack on Titan',\n",
    "        'characters': ['Eren', 'Mikasa', 'Armin', 'Levi']\n",
    "    }\n",
    "]\n",
    "ins.insert_many(database='CS541DB', collection_name='Projects', payloads=payload)"
   ]
  },
  {
   "cell_type": "code",
   "execution_count": 5,
   "metadata": {},
   "outputs": [
    {
     "data": {
      "text/plain": [
       "'OK'"
      ]
     },
     "execution_count": 5,
     "metadata": {},
     "output_type": "execute_result"
    }
   ],
   "source": [
    "# Update a record\n",
    "up = Update()\n",
    "payload = {\n",
    "    'name' : 'Peter',\n",
    "    'age' : 24,\n",
    "    'ssn' : '424-KJ-8123',\n",
    "    'courses_registered' : [\n",
    "        'CS541', 'CS528'\n",
    "    ],\n",
    "    'days_without_class' : ['Monday', 'Wednesday', 'Friday'],\n",
    "    '_id' : 'primary_key_unique_857893127'\n",
    "}\n",
    "up.update_one(database='CS541DB', collection_name='Students', payload=payload)\n"
   ]
  },
  {
   "cell_type": "code",
   "execution_count": 6,
   "metadata": {},
   "outputs": [
    {
     "data": {
      "text/plain": [
       "'OK'"
      ]
     },
     "execution_count": 6,
     "metadata": {},
     "output_type": "execute_result"
    }
   ],
   "source": [
    "# Delete a Record\n",
    "delete = Delete()\n",
    "payload = {\n",
    "    '_id' : 'primary_key_unique_857893127'\n",
    "}\n",
    "delete.delete_one(database='CS541DB', collection_name='Students', payload=payload)"
   ]
  }
 ],
 "metadata": {
  "kernelspec": {
   "display_name": "Python 3",
   "language": "python",
   "name": "python3"
  },
  "language_info": {
   "codemirror_mode": {
    "name": "ipython",
    "version": 3
   },
   "file_extension": ".py",
   "mimetype": "text/x-python",
   "name": "python",
   "nbconvert_exporter": "python",
   "pygments_lexer": "ipython3",
   "version": "3.10.9"
  },
  "orig_nbformat": 4,
  "vscode": {
   "interpreter": {
    "hash": "b0fa6594d8f4cbf19f97940f81e996739fb7646882a419484c72d19e05852a7e"
   }
  }
 },
 "nbformat": 4,
 "nbformat_minor": 2
}
