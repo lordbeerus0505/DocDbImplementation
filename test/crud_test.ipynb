{
 "cells": [
  {
   "cell_type": "code",
   "execution_count": 1,
   "metadata": {},
   "outputs": [],
   "source": [
    "\n",
    "import sys\n",
    "sys.path.append('../')\n",
    "from memory import DatabaseStorage\n",
    "from crud.insert import Insert\n",
    "from crud.update import Update\n",
    "from crud.delete import Delete"
   ]
  },
  {
   "cell_type": "code",
   "execution_count": 2,
   "metadata": {},
   "outputs": [],
   "source": [
    "# Create a database and a collection\n",
    "db = DatabaseStorage(database_location='./', database_name='CS541DB', collection_name='Students')"
   ]
  },
  {
   "cell_type": "code",
   "execution_count": 3,
   "metadata": {},
   "outputs": [
    {
     "name": "stdout",
     "output_type": "stream",
     "text": [
      "dict_keys([]) <built-in function id>\n"
     ]
    },
    {
     "data": {
      "text/plain": [
       "'OK'"
      ]
     },
     "execution_count": 3,
     "metadata": {},
     "output_type": "execute_result"
    }
   ],
   "source": [
    "# Insert a single record into the collection\n",
    "ins = Insert()\n",
    "payload = {\n",
    "    'name' : 'Peter',\n",
    "    'age' : 24,\n",
    "    'ssn' : '424-KJ-8123',\n",
    "    'courses_registered' : [\n",
    "        'CS5417', 'CS505', 'CS528'\n",
    "    ],\n",
    "    '_id' : 'primary_key_unique_857893127'\n",
    "}\n",
    "ins.insert_one(database='CS541DB', collection_name='Students', payload=payload)"
   ]
  },
  {
   "cell_type": "code",
   "execution_count": 4,
   "metadata": {},
   "outputs": [
    {
     "data": {
      "text/plain": [
       "'OK'"
      ]
     },
     "execution_count": 4,
     "metadata": {},
     "output_type": "execute_result"
    }
   ],
   "source": [
    "# Insert multiples records\n",
    "payload = [\n",
    "    {\n",
    "        'code': 'DocsDBI-1',\n",
    "        'title': 'Implementation of Document Oriented Databases',\n",
    "        'members': ['Tom', 'Jerry', 'Spike']\n",
    "    }, {\n",
    "        'code': 'GraphDB-EG1',\n",
    "        'title': 'Implementation of a Graph DBMS for Road Networks and Points of Interest',\n",
    "        'members': ['Bugs', 'Daffy', 'Donald']\n",
    "    }, {\n",
    "        'code': 'PM1',\n",
    "        'title': 'Studying SSD and Persistent Memory Storage Technologies, Their Properties, and How They affect Database Query Processing and Indexing Techniques',\n",
    "        'members': ['Goku', 'Vegeta', 'Gohan']\n",
    "    }, {\n",
    "        'code': 'AOT',\n",
    "        'title': 'Attack on Titan',\n",
    "        'characters': ['Eren', 'Mikasa', 'Armin', 'Levi']\n",
    "    }\n",
    "]\n",
    "ins.insert_many(database='CS541DB', collection_name='Projects', payloads=payload)"
   ]
  },
  {
   "cell_type": "code",
   "execution_count": 5,
   "metadata": {},
   "outputs": [
    {
     "data": {
      "text/plain": [
       "'OK'"
      ]
     },
     "execution_count": 5,
     "metadata": {},
     "output_type": "execute_result"
    }
   ],
   "source": [
    "# Update a record\n",
    "up = Update()\n",
    "payload = {\n",
    "    'name' : 'Peter',\n",
    "    'age' : 24,\n",
    "    'ssn' : '424-KJ-8123',\n",
    "    'courses_registered' : [\n",
    "        'CS541', 'CS528'\n",
    "    ],\n",
    "    'days_without_class' : ['Monday', 'Wednesday', 'Friday'],\n",
    "    '_id' : 'primary_key_unique_857893127'\n",
    "}\n",
    "up.update_one(database='CS541DB', collection_name='Students', payload=payload)\n"
   ]
  },
  {
   "cell_type": "code",
   "execution_count": 6,
   "metadata": {},
   "outputs": [
    {
     "data": {
      "text/plain": [
       "'OK'"
      ]
     },
     "execution_count": 6,
     "metadata": {},
     "output_type": "execute_result"
    }
   ],
   "source": [
    "# Delete a Record\n",
    "delete = Delete()\n",
    "payload = {\n",
    "    '_id' : 'primary_key_unique_857893127'\n",
    "}\n",
    "delete.delete_one(database='CS541DB', collection_name='Students', payload=payload)"
   ]
  }
 ],
 "metadata": {
  "kernelspec": {
   "display_name": "Python 3",
   "language": "python",
   "name": "python3"
  },
  "language_info": {
   "codemirror_mode": {
    "name": "ipython",
    "version": 3
   },
   "file_extension": ".py",
   "mimetype": "text/x-python",
   "name": "python",
   "nbconvert_exporter": "python",
   "pygments_lexer": "ipython3",
   "version": "3.9.12"
  },
  "orig_nbformat": 4,
  "vscode": {
   "interpreter": {
    "hash": "b0fa6594d8f4cbf19f97940f81e996739fb7646882a419484c72d19e05852a7e"
   }
  }
 },
 "nbformat": 4,
 "nbformat_minor": 2
}
