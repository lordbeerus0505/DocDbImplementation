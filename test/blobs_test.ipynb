{
 "cells": [
  {
   "attachments": {},
   "cell_type": "markdown",
   "metadata": {},
   "source": [
    "## No longer in use"
   ]
  },
  {
   "cell_type": "code",
   "execution_count": 3,
   "metadata": {},
   "outputs": [],
   "source": [
    "import sys\n",
    "sys.path.append('../')\n",
    "from memory import DatabaseStorage\n",
    "from crud.insert import Insert\n",
    "from crud.update import Update\n",
    "from crud.delete import Delete\n",
    "from queries.queryhandler import QueryHandler\n",
    "import json\n",
    "import base64"
   ]
  },
  {
   "cell_type": "code",
   "execution_count": 4,
   "metadata": {},
   "outputs": [],
   "source": [
    "# Retrieving a Database Object\n",
    "db = DatabaseStorage(database_location='./', database_name='CS541DB', collection_name='Photos')"
   ]
  },
  {
   "cell_type": "code",
   "execution_count": 5,
   "metadata": {},
   "outputs": [
    {
     "data": {
      "text/plain": [
       "'OK'"
      ]
     },
     "execution_count": 5,
     "metadata": {},
     "output_type": "execute_result"
    }
   ],
   "source": [
    "payload = {}\n",
    "with open('img1.jpeg', mode='rb') as file:\n",
    "    img = file.read()\n",
    "payload['img'] = base64.encodebytes(img).decode('utf-8')\n",
    "payload['name'] = 'Zebra'\n",
    "ins = Insert()\n",
    "ins.insert_one(database='CS541DB', collection_name='Photos', payload=payload)"
   ]
  },
  {
   "cell_type": "code",
   "execution_count": 6,
   "metadata": {},
   "outputs": [
    {
     "ename": "IndexError",
     "evalue": "list index out of range",
     "output_type": "error",
     "traceback": [
      "\u001b[0;31m---------------------------------------------------------------------------\u001b[0m",
      "\u001b[0;31mIndexError\u001b[0m                                Traceback (most recent call last)",
      "\u001b[1;32m/Users/rohansimha/Desktop/DBMS/Project/DocDbImplementation/test/blobs_test.ipynb Cell 4\u001b[0m in \u001b[0;36m3\n\u001b[1;32m      <a href='vscode-notebook-cell:/Users/rohansimha/Desktop/DBMS/Project/DocDbImplementation/test/blobs_test.ipynb#W3sZmlsZQ%3D%3D?line=0'>1</a>\u001b[0m q \u001b[39m=\u001b[39m QueryHandler()\n\u001b[1;32m      <a href='vscode-notebook-cell:/Users/rohansimha/Desktop/DBMS/Project/DocDbImplementation/test/blobs_test.ipynb#W3sZmlsZQ%3D%3D?line=1'>2</a>\u001b[0m \u001b[39m# Returns a list of dictionaries\u001b[39;00m\n\u001b[0;32m----> <a href='vscode-notebook-cell:/Users/rohansimha/Desktop/DBMS/Project/DocDbImplementation/test/blobs_test.ipynb#W3sZmlsZQ%3D%3D?line=2'>3</a>\u001b[0m img_raw \u001b[39m=\u001b[39m q\u001b[39m.\u001b[39;49mhandle_query(\u001b[39m\"\u001b[39;49m\u001b[39mfind\u001b[39;49m\u001b[39m\"\u001b[39;49m, [\n\u001b[1;32m      <a href='vscode-notebook-cell:/Users/rohansimha/Desktop/DBMS/Project/DocDbImplementation/test/blobs_test.ipynb#W3sZmlsZQ%3D%3D?line=3'>4</a>\u001b[0m     {\n\u001b[1;32m      <a href='vscode-notebook-cell:/Users/rohansimha/Desktop/DBMS/Project/DocDbImplementation/test/blobs_test.ipynb#W3sZmlsZQ%3D%3D?line=4'>5</a>\u001b[0m         \u001b[39m\"\u001b[39;49m\u001b[39mname\u001b[39;49m\u001b[39m\"\u001b[39;49m : {\u001b[39m\"\u001b[39;49m\u001b[39meq\u001b[39;49m\u001b[39m\"\u001b[39;49m: \u001b[39m\"\u001b[39;49m\u001b[39mZebra\u001b[39;49m\u001b[39m\"\u001b[39;49m}\n\u001b[1;32m      <a href='vscode-notebook-cell:/Users/rohansimha/Desktop/DBMS/Project/DocDbImplementation/test/blobs_test.ipynb#W3sZmlsZQ%3D%3D?line=5'>6</a>\u001b[0m     },\n\u001b[1;32m      <a href='vscode-notebook-cell:/Users/rohansimha/Desktop/DBMS/Project/DocDbImplementation/test/blobs_test.ipynb#W3sZmlsZQ%3D%3D?line=6'>7</a>\u001b[0m     {\u001b[39m\"\u001b[39;49m\u001b[39mimg\u001b[39;49m\u001b[39m\"\u001b[39;49m : \u001b[39m1\u001b[39;49m}\n\u001b[1;32m      <a href='vscode-notebook-cell:/Users/rohansimha/Desktop/DBMS/Project/DocDbImplementation/test/blobs_test.ipynb#W3sZmlsZQ%3D%3D?line=7'>8</a>\u001b[0m ], db\u001b[39m.\u001b[39;49mstorage, \u001b[39mTrue\u001b[39;49;00m)[\u001b[39m0\u001b[39;49m][\u001b[39m\"\u001b[39m\u001b[39mimg\u001b[39m\u001b[39m\"\u001b[39m]\n\u001b[1;32m      <a href='vscode-notebook-cell:/Users/rohansimha/Desktop/DBMS/Project/DocDbImplementation/test/blobs_test.ipynb#W3sZmlsZQ%3D%3D?line=8'>9</a>\u001b[0m img \u001b[39m=\u001b[39m base64\u001b[39m.\u001b[39mdecodebytes(img_raw\u001b[39m.\u001b[39mencode(\u001b[39m\"\u001b[39m\u001b[39mUTF-8\u001b[39m\u001b[39m\"\u001b[39m))\n\u001b[1;32m     <a href='vscode-notebook-cell:/Users/rohansimha/Desktop/DBMS/Project/DocDbImplementation/test/blobs_test.ipynb#W3sZmlsZQ%3D%3D?line=9'>10</a>\u001b[0m \u001b[39mwith\u001b[39;00m \u001b[39mopen\u001b[39m(\u001b[39m'\u001b[39m\u001b[39mimg1_recovered.jpeg\u001b[39m\u001b[39m'\u001b[39m, \u001b[39m'\u001b[39m\u001b[39mwb\u001b[39m\u001b[39m'\u001b[39m) \u001b[39mas\u001b[39;00m f:\n",
      "\u001b[0;31mIndexError\u001b[0m: list index out of range"
     ]
    }
   ],
   "source": [
    "q = QueryHandler()\n",
    "# Returns a list of dictionaries\n",
    "img_raw = q.handle_query(\"find\", [\n",
    "    {\n",
    "        \"name\" : {\"eq\": \"Zebra\"}\n",
    "    },\n",
    "    {\"img\" : 1}\n",
    "], db.storage, True)[0][\"img\"]\n",
    "img = base64.decodebytes(img_raw.encode(\"UTF-8\"))\n",
    "with open('img1_recovered.jpeg', 'wb') as f:\n",
    "    f.write(img)"
   ]
  }
 ],
 "metadata": {
  "kernelspec": {
   "display_name": "base",
   "language": "python",
   "name": "python3"
  },
  "language_info": {
   "codemirror_mode": {
    "name": "ipython",
    "version": 3
   },
   "file_extension": ".py",
   "mimetype": "text/x-python",
   "name": "python",
   "nbconvert_exporter": "python",
   "pygments_lexer": "ipython3",
   "version": "3.10.6"
  },
  "orig_nbformat": 4
 },
 "nbformat": 4,
 "nbformat_minor": 2
}
