{
 "cells": [
  {
   "cell_type": "code",
   "execution_count": 2,
   "metadata": {},
   "outputs": [],
   "source": [
    "import json\n",
    "\n",
    "fd = open(\"./CS541DB/mock_collection.json\", \"a+\")\n",
    "fd.seek(0)\n",
    "data = json.loads(fd.read())\n"
   ]
  },
  {
   "cell_type": "code",
   "execution_count": 6,
   "metadata": {},
   "outputs": [],
   "source": [
    "new_data = {\"_metadata\": {\n",
    "        \"collection_name\": \"mock_collections\",\n",
    "        \"creation_time\": \"03/03/2023, 23:30:42\"\n",
    "    },}\n",
    "payload = {}\n",
    "for d in data:\n",
    "    key = d[\"_id\"]\n",
    "    payload[key] = d\n",
    "new_data[\"_data\"] = payload\n",
    "\n",
    "json.dump(new_data, open(\"./CS541DB/mock_collections.json\", \"w\"), indent=4)"
   ]
  },
  {
   "cell_type": "code",
   "execution_count": null,
   "metadata": {},
   "outputs": [],
   "source": [
    "import bson\n",
    "data = bson.BSON.encode(new_data)\n",
    "with open(\"./CS541DB/mock_collections.bson\", \"wb\") as f:\n",
    "    f.write(data)"
   ]
  }
 ],
 "metadata": {
  "kernelspec": {
   "display_name": "base",
   "language": "python",
   "name": "python3"
  },
  "language_info": {
   "codemirror_mode": {
    "name": "ipython",
    "version": 3
   },
   "file_extension": ".py",
   "mimetype": "text/x-python",
   "name": "python",
   "nbconvert_exporter": "python",
   "pygments_lexer": "ipython3",
   "version": "3.9.12"
  },
  "orig_nbformat": 4
 },
 "nbformat": 4,
 "nbformat_minor": 2
}
