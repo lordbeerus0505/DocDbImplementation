{
 "cells": [
  {
   "cell_type": "code",
   "execution_count": 1,
   "metadata": {},
   "outputs": [],
   "source": [
    "import sys\n",
    "sys.path.append('../')\n",
    "from memory import DatabaseStorage\n",
    "from crud.insert import Insert\n",
    "from crud.update import Update\n",
    "from crud.delete import Delete\n",
    "from queries.queryhandler import QueryHandler"
   ]
  },
  {
   "cell_type": "code",
   "execution_count": 2,
   "metadata": {},
   "outputs": [],
   "source": [
    "import string\n",
    "import random\n",
    "import time"
   ]
  },
  {
   "cell_type": "code",
   "execution_count": 3,
   "metadata": {},
   "outputs": [],
   "source": [
    "def construct_payload(n: int):\n",
    "    i = 0\n",
    "    while i < n:\n",
    "        payload = {\n",
    "            \"name\": ''.join(random.choices(string.ascii_letters, k=7)),\n",
    "            \"address\": ''.join(random.choices(string.ascii_letters + string.digits, k=30)),\n",
    "            \"massive payload\": ''.join(random.choices(string.ascii_letters, k=5000))\n",
    "        }\n",
    "        yield payload\n",
    "        i += 1"
   ]
  },
  {
   "attachments": {},
   "cell_type": "markdown",
   "metadata": {},
   "source": [
    "### Group Inserts"
   ]
  },
  {
   "cell_type": "code",
   "execution_count": 5,
   "metadata": {},
   "outputs": [],
   "source": [
    "db = DatabaseStorage(database_location='./', database_name='CS541DB', collection_name='LoadTest1')"
   ]
  },
  {
   "cell_type": "code",
   "execution_count": 6,
   "metadata": {},
   "outputs": [
    {
     "name": "stdout",
     "output_type": "stream",
     "text": [
      "The time to perform this insert operation without group commit  5.880454778671265\n"
     ]
    }
   ],
   "source": [
    "ins = Insert(interval = 1)\n",
    "start = time.time()\n",
    "\n",
    "for payload in construct_payload(1000):\n",
    "    ins.insert_one(database='CS541DB', collection_name='LoadTest1', payload=payload, group_commit=False)\n",
    "end = time.time()\n",
    "print('The time to perform this insert operation without group commit ', end - start)"
   ]
  },
  {
   "cell_type": "code",
   "execution_count": 9,
   "metadata": {},
   "outputs": [],
   "source": [
    "db = DatabaseStorage(database_location='./', database_name='CS541DB', collection_name='LoadTest2')"
   ]
  },
  {
   "cell_type": "code",
   "execution_count": 10,
   "metadata": {},
   "outputs": [
    {
     "name": "stdout",
     "output_type": "stream",
     "text": [
      "committing...\n",
      "committing...\n",
      "committing...\n",
      "committing...\n",
      "committing...\n",
      "Commit complete\n",
      "The time to perform this insert operation with group commit  25.045530080795288\n"
     ]
    }
   ],
   "source": [
    "ins = Insert(interval = 5)\n",
    "start = time.time()\n",
    "\n",
    "for payload in construct_payload(50000):\n",
    "    ins.insert_one(database='CS541DB', collection_name='LoadTest2', payload=payload, group_commit=True)\n",
    "ins.stop_commit()\n",
    "end = time.time()\n",
    "print('The time to perform this insert operation with group commit ', end - start)"
   ]
  },
  {
   "attachments": {},
   "cell_type": "markdown",
   "metadata": {},
   "source": [
    "### Group Updates"
   ]
  },
  {
   "cell_type": "code",
   "execution_count": 4,
   "metadata": {},
   "outputs": [],
   "source": [
    "def construct_payload2(n: int):\n",
    "    i = 0\n",
    "    while i < n:\n",
    "        payload = {\n",
    "            \"_id\": \"abcdef12341234\",\n",
    "            \"content\" : ''.join(random.choices(string.ascii_letters, k=5000))\n",
    "        }\n",
    "        yield payload\n",
    "        i += 1"
   ]
  },
  {
   "cell_type": "code",
   "execution_count": 10,
   "metadata": {},
   "outputs": [
    {
     "name": "stdout",
     "output_type": "stream",
     "text": [
      "The time to perform this insert operation without group commit  6.0542449951171875\n"
     ]
    }
   ],
   "source": [
    "db = DatabaseStorage(database_location='./', database_name='CS541DB', collection_name='LoadTest3')\n",
    "# Inserting 1 record and updating it 1000 times\n",
    "ins = Insert()\n",
    "start = time.time()\n",
    "payload = {\n",
    "    \"_id\" : \"abcdef12341234\",\n",
    "    \"content\" : ''.join(random.choices(string.ascii_letters, k=5000))\n",
    "}\n",
    "ins.insert_one(database='CS541DB', collection_name='LoadTest3', payload=payload, group_commit=False)\n",
    "up = Update(interval=1)\n",
    "# Now updating it 1000 times\n",
    "for payload in construct_payload2(20000):\n",
    "    up.update_one(database='CS541DB', collection_name='LoadTest3', payload=payload, group_commit=False)\n",
    "end = time.time()\n",
    "print('The time to perform this insert operation without group commit ', end - start)"
   ]
  },
  {
   "cell_type": "code",
   "execution_count": 7,
   "metadata": {},
   "outputs": [
    {
     "name": "stdout",
     "output_type": "stream",
     "text": [
      "Committing\n",
      "Committing\n",
      "Commit complete\n",
      "The time to perform this insert operation with group commit  6.885488271713257\n"
     ]
    }
   ],
   "source": [
    "db = DatabaseStorage(database_location='./', database_name='CS541DB', collection_name='LoadTest4')\n",
    "# Inserting 1 record and updating it 1000 times\n",
    "ins = Insert()\n",
    "start = time.time()\n",
    "payload = {\n",
    "    \"_id\" : \"abcdef12341234\",\n",
    "    \"content\" : ''.join(random.choices(string.ascii_letters, k=5000))\n",
    "}\n",
    "ins.insert_one(database='CS541DB', collection_name='LoadTest4', payload=payload, group_commit=False)\n",
    "up = Update(interval=2)\n",
    "# Now updating it 1000 times\n",
    "for payload in construct_payload2(20000):\n",
    "    up.update_one(database='CS541DB', collection_name='LoadTest4', payload=payload, group_commit=True)\n",
    "up.stop_commit()\n",
    "end = time.time()\n",
    "print('The time to perform this insert operation with group commit ', end - start)"
   ]
  }
 ],
 "metadata": {
  "kernelspec": {
   "display_name": "base",
   "language": "python",
   "name": "python3"
  },
  "language_info": {
   "codemirror_mode": {
    "name": "ipython",
    "version": 3
   },
   "file_extension": ".py",
   "mimetype": "text/x-python",
   "name": "python",
   "nbconvert_exporter": "python",
   "pygments_lexer": "ipython3",
   "version": "3.9.12"
  },
  "orig_nbformat": 4
 },
 "nbformat": 4,
 "nbformat_minor": 2
}
