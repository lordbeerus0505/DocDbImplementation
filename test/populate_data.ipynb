{
 "cells": [
  {
   "cell_type": "code",
   "execution_count": null,
   "metadata": {},
   "outputs": [],
   "source": [
    "import json\n",
    "fd = open('./CS541DB/mock_collection.json', 'a+')\n",
    "fd.seek(0)\n",
    "storage = json.load(fd)"
   ]
  },
  {
   "cell_type": "code",
   "execution_count": null,
   "metadata": {},
   "outputs": [],
   "source": [
    "import datetime\n",
    "\n",
    "new_data = json.loads('''{\n",
    "\"_metadata\": {\"collection_name\": \"%s\", \"creation_time\": \"%s\"},\n",
    "\"_data\" : {}\n",
    "}'''%('mock_collection', datetime.datetime.now().strftime(\"%m/%d/%Y, %H:%M:%S\")))"
   ]
  },
  {
   "cell_type": "code",
   "execution_count": null,
   "metadata": {},
   "outputs": [],
   "source": [
    "for doc in storage:\n",
    "    _id = doc['_id']\n",
    "    new_data['_data'][_id] = doc"
   ]
  },
  {
   "cell_type": "code",
   "execution_count": null,
   "metadata": {},
   "outputs": [],
   "source": [
    "print(new_data)\n",
    "json.dump(new_data, \n",
    "            open('CS541DB/mock_collections.json', 'w'),\n",
    "            indent=4)"
   ]
  }
 ],
 "metadata": {
  "kernelspec": {
   "display_name": "Python 3",
   "language": "python",
   "name": "python3"
  },
  "language_info": {
   "name": "python",
   "version": "3.10.9"
  },
  "orig_nbformat": 4,
  "vscode": {
   "interpreter": {
    "hash": "b0fa6594d8f4cbf19f97940f81e996739fb7646882a419484c72d19e05852a7e"
   }
  }
 },
 "nbformat": 4,
 "nbformat_minor": 2
}
