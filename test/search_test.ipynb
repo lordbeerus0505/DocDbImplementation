{
 "cells": [
  {
   "cell_type": "code",
   "execution_count": 10,
   "metadata": {},
   "outputs": [],
   "source": [
    "import sys\n",
    "sys.path.append('../')\n",
    "sys.path.append('./')\n",
    "from indexing.create_index import CreateIndex\n",
    "from indexing.text_search import TextSearch"
   ]
  },
  {
   "cell_type": "code",
   "execution_count": 11,
   "metadata": {},
   "outputs": [],
   "source": [
    "# Create an index based on age and on first_name\n",
    "index = CreateIndex(database_name='CS541DB', collection_name='mock_collections', fields=[\n",
    "    'age', 'first_name'\n",
    "])\n",
    "index.populate_index('search')"
   ]
  },
  {
   "cell_type": "code",
   "execution_count": 13,
   "metadata": {},
   "outputs": [
    {
     "name": "stdout",
     "output_type": "stream",
     "text": [
      "[\n",
      "    {\n",
      "        \"_id\": \"74d83e7a-7fe2-45e3-bc63-632f97369472\",\n",
      "        \"first_name\": \"Darb\",\n",
      "        \"last_name\": \"Trent\",\n",
      "        \"email\": \"dtrent1b@blog.com\",\n",
      "        \"gender\": \"Male\",\n",
      "        \"age\": 23,\n",
      "        \"city\": \"Manyana\"\n",
      "    },\n",
      "    {\n",
      "        \"_id\": \"92614c7f-a37d-40b3-bbe3-8303c185a64e\",\n",
      "        \"first_name\": \"Darb\",\n",
      "        \"last_name\": \"Georghiou\",\n",
      "        \"email\": \"dgeorghiou51@newyorker.com\",\n",
      "        \"gender\": \"Male\",\n",
      "        \"age\": 25,\n",
      "        \"city\": \"Devesa\"\n",
      "    },\n",
      "    {\n",
      "        \"_id\": \"f1ff1d72-90c4-4fe1-8643-9a4b53edfcbc\",\n",
      "        \"first_name\": \"Darb\",\n",
      "        \"last_name\": \"Verbeke\",\n",
      "        \"email\": \"dverbeke8q@addthis.com\",\n",
      "        \"gender\": \"Male\",\n",
      "        \"age\": 47,\n",
      "        \"city\": \"Viale\"\n",
      "    }\n",
      "]\n"
     ]
    }
   ],
   "source": [
    "# Return all documents that match the text to be searched FirstName = Darb - O(1)\n",
    "ts = TextSearch(database_name='CS541DB', collection_name='mock_collections', word_to_search='Darb')\n",
    "ts.search()"
   ]
  }
 ],
 "metadata": {
  "kernelspec": {
   "display_name": "Python 3",
   "language": "python",
   "name": "python3"
  },
  "language_info": {
   "codemirror_mode": {
    "name": "ipython",
    "version": 3
   },
   "file_extension": ".py",
   "mimetype": "text/x-python",
   "name": "python",
   "nbconvert_exporter": "python",
   "pygments_lexer": "ipython3",
   "version": "3.10.9"
  },
  "orig_nbformat": 4,
  "vscode": {
   "interpreter": {
    "hash": "b0fa6594d8f4cbf19f97940f81e996739fb7646882a419484c72d19e05852a7e"
   }
  }
 },
 "nbformat": 4,
 "nbformat_minor": 2
}
