{
 "cells": [
  {
   "cell_type": "code",
   "execution_count": 1,
   "metadata": {},
   "outputs": [],
   "source": [
    "import sys\n",
    "sys.path.append('../')\n",
    "from queries.queryhandler import QueryHandler\n",
    "from memory import DatabaseStorage"
   ]
  },
  {
   "cell_type": "code",
   "execution_count": 2,
   "metadata": {},
   "outputs": [],
   "source": [
    "# Retrieving a Database Object\n",
    "db = DatabaseStorage(database_location='./', database_name='CS541DB', collection_name='Projects')"
   ]
  },
  {
   "cell_type": "code",
   "execution_count": 3,
   "metadata": {},
   "outputs": [
    {
     "name": "stdout",
     "output_type": "stream",
     "text": [
      "code {'eq': 'DocsDBI-1'}\n",
      "[\n",
      "    {\n",
      "        \"title\": \"Implementation of Document Oriented Databases\",\n",
      "        \"members\": [\n",
      "            \"Tom\",\n",
      "            \"Jerry\",\n",
      "            \"Spike\"\n",
      "        ]\n",
      "    }\n",
      "]\n"
     ]
    }
   ],
   "source": [
    "# Running a find query\n",
    "q = QueryHandler()\n",
    "q.handle_query('find', [\n",
    "    {\n",
    "        'code' : {'eq': 'DocsDBI-1'}\n",
    "    },\n",
    "    {'title' : 1, 'members': 1}\n",
    "], db.storage)"
   ]
  },
  {
   "cell_type": "code",
   "execution_count": 6,
   "metadata": {},
   "outputs": [
    {
     "name": "stdout",
     "output_type": "stream",
     "text": [
      "code {'NOT': [{'leq': 'AOT'}, {'gt': 'PM'}]}\n"
     ]
    },
    {
     "ename": "Exception",
     "evalue": "Invalid constraint, check query",
     "output_type": "error",
     "traceback": [
      "\u001b[0;31m---------------------------------------------------------------------------\u001b[0m",
      "\u001b[0;31mException\u001b[0m                                 Traceback (most recent call last)",
      "Cell \u001b[0;32mIn[6], line 2\u001b[0m\n\u001b[1;32m      1\u001b[0m \u001b[39m# Returning more than one row with multiple conditions\u001b[39;00m\n\u001b[0;32m----> 2\u001b[0m q\u001b[39m.\u001b[39;49mhandle_query(\u001b[39m'\u001b[39;49m\u001b[39mfind\u001b[39;49m\u001b[39m'\u001b[39;49m, [\n\u001b[1;32m      3\u001b[0m     {\n\u001b[1;32m      4\u001b[0m         \u001b[39m'\u001b[39;49m\u001b[39mcode\u001b[39;49m\u001b[39m'\u001b[39;49m : {\n\u001b[1;32m      5\u001b[0m             \u001b[39m'\u001b[39;49m\u001b[39mNOT\u001b[39;49m\u001b[39m'\u001b[39;49m: [\n\u001b[1;32m      6\u001b[0m                 {\n\u001b[1;32m      7\u001b[0m                     \u001b[39m'\u001b[39;49m\u001b[39mleq\u001b[39;49m\u001b[39m'\u001b[39;49m: \u001b[39m'\u001b[39;49m\u001b[39mAOT\u001b[39;49m\u001b[39m'\u001b[39;49m\n\u001b[1;32m      8\u001b[0m                 }, {\n\u001b[1;32m      9\u001b[0m                     \u001b[39m'\u001b[39;49m\u001b[39mgt\u001b[39;49m\u001b[39m'\u001b[39;49m: \u001b[39m'\u001b[39;49m\u001b[39mPM\u001b[39;49m\u001b[39m'\u001b[39;49m\n\u001b[1;32m     10\u001b[0m                 }\n\u001b[1;32m     11\u001b[0m             ]\n\u001b[1;32m     12\u001b[0m         }, \n\u001b[1;32m     13\u001b[0m         \u001b[39m'\u001b[39;49m\u001b[39mtitle\u001b[39;49m\u001b[39m'\u001b[39;49m : { \u001b[39m'\u001b[39;49m\u001b[39meq\u001b[39;49m\u001b[39m'\u001b[39;49m : \u001b[39m'\u001b[39;49m\u001b[39mStudying SSD and Persistent Memory Storage Technologies, Their Properties, and How They affect Database Query Processing and Indexing Techniques\u001b[39;49m\u001b[39m'\u001b[39;49m}\n\u001b[1;32m     14\u001b[0m     }, {\u001b[39m'\u001b[39;49m\u001b[39mtitle\u001b[39;49m\u001b[39m'\u001b[39;49m : \u001b[39m1\u001b[39;49m, \u001b[39m'\u001b[39;49m\u001b[39mcode\u001b[39;49m\u001b[39m'\u001b[39;49m: \u001b[39m1\u001b[39;49m}\n\u001b[1;32m     15\u001b[0m ], db\u001b[39m.\u001b[39;49mstorage)\n",
      "File \u001b[0;32m~/Spring23/databases/project/DocDbImplementation/test/../queries/queryhandler.py:23\u001b[0m, in \u001b[0;36mQueryHandler.handle_query\u001b[0;34m(self, query_type, query, collection)\u001b[0m\n\u001b[1;32m     21\u001b[0m \u001b[39mif\u001b[39;00m query_type \u001b[39m==\u001b[39m \u001b[39m'\u001b[39m\u001b[39mfind\u001b[39m\u001b[39m'\u001b[39m:\n\u001b[1;32m     22\u001b[0m     fq \u001b[39m=\u001b[39m FindQuery()\n\u001b[0;32m---> 23\u001b[0m     fq\u001b[39m.\u001b[39;49mfind_handler(collection, \u001b[39m*\u001b[39;49mquery)\n\u001b[1;32m     24\u001b[0m     \u001b[39mprint\u001b[39m(json\u001b[39m.\u001b[39mdumps(fq\u001b[39m.\u001b[39mproject_results, indent\u001b[39m=\u001b[39m\u001b[39m4\u001b[39m))\n\u001b[1;32m     25\u001b[0m     \u001b[39mpass\u001b[39;00m\n",
      "File \u001b[0;32m~/Spring23/databases/project/DocDbImplementation/test/../queries/find.py:139\u001b[0m, in \u001b[0;36mFindQuery.find_handler\u001b[0;34m(self, collection, select_query, project_query)\u001b[0m\n\u001b[1;32m    136\u001b[0m             \u001b[39mself\u001b[39m\u001b[39m.\u001b[39mhandle_or(data, field, v)\n\u001b[1;32m    137\u001b[0m         \u001b[39melse\u001b[39;00m:\n\u001b[1;32m    138\u001b[0m             \u001b[39m# No Match\u001b[39;00m\n\u001b[0;32m--> 139\u001b[0m             \u001b[39mraise\u001b[39;00m \u001b[39mException\u001b[39;00m(\u001b[39m\"\u001b[39m\u001b[39mInvalid constraint, check query\u001b[39m\u001b[39m\"\u001b[39m)\n\u001b[1;32m    142\u001b[0m \u001b[39m# Now to project the results\u001b[39;00m\n\u001b[1;32m    143\u001b[0m \u001b[39mfor\u001b[39;00m ele \u001b[39min\u001b[39;00m \u001b[39mself\u001b[39m\u001b[39m.\u001b[39mselect_results:\n",
      "\u001b[0;31mException\u001b[0m: Invalid constraint, check query"
     ]
    }
   ],
   "source": [
    "# Returning more than one row with multiple conditions\n",
    "q.handle_query('find', [\n",
    "    {\n",
    "        'code' : {\n",
    "            'AND': [\n",
    "                {\n",
    "                    'ne': 'AOT'\n",
    "                }, {\n",
    "                    'gt': 'PM'\n",
    "                }\n",
    "            ]\n",
    "        }, \n",
    "        'title' : { 'eq' : 'Studying SSD and Persistent Memory Storage Technologies, Their Properties, and How They affect Database Query Processing and Indexing Techniques'}\n",
    "    }, {'title' : 1, 'code': 1}\n",
    "], db.storage)"
   ]
  }
 ],
 "metadata": {
  "kernelspec": {
   "display_name": "Python 3",
   "language": "python",
   "name": "python3"
  },
  "language_info": {
   "codemirror_mode": {
    "name": "ipython",
    "version": 3
   },
   "file_extension": ".py",
   "mimetype": "text/x-python",
   "name": "python",
   "nbconvert_exporter": "python",
   "pygments_lexer": "ipython3",
   "version": "3.9.12"
  },
  "orig_nbformat": 4,
  "vscode": {
   "interpreter": {
    "hash": "b0fa6594d8f4cbf19f97940f81e996739fb7646882a419484c72d19e05852a7e"
   }
  }
 },
 "nbformat": 4,
 "nbformat_minor": 2
}
