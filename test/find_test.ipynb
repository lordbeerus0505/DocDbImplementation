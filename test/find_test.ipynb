{
 "cells": [
  {
   "cell_type": "code",
   "execution_count": null,
   "metadata": {},
   "outputs": [],
   "source": [
    "import sys\n",
    "sys.path.append('../')\n",
    "from queries.queryhandler import QueryHandler\n",
    "from memory import DatabaseStorage"
   ]
  },
  {
   "cell_type": "code",
   "execution_count": null,
   "metadata": {},
   "outputs": [],
   "source": [
    "# Retrieving a Database Object\n",
    "db = DatabaseStorage(database_location='./', database_name='CS541DB', collection_name='Projects')"
   ]
  },
  {
   "cell_type": "code",
   "execution_count": null,
   "metadata": {},
   "outputs": [],
   "source": [
    "# Running a find query\n",
    "q = QueryHandler()\n",
    "q.handle_query('find', [\n",
    "    ({\n",
    "        'code' : {'eq': 'DocsDBI-1'}\n",
    "    }),\n",
    "    {'title' : 1, 'members': 1}\n",
    "], db.storage)"
   ]
  },
  {
   "cell_type": "code",
   "execution_count": null,
   "metadata": {},
   "outputs": [],
   "source": [
    "# Returning more than one row with multiple conditions\n",
    "q.handle_query('find', [\n",
    "    ({\n",
    "        'code' : {\n",
    "            'AND': [\n",
    "                {\n",
    "                    'geq': 'AOT'\n",
    "                }, {\n",
    "                    'lt': 'PM'\n",
    "                }\n",
    "            ]\n",
    "        }, \n",
    "        'title' : { 'eq' : 'Studying SSD and Persistent Memory Storage Technologies, Their Properties, and How They affect Database Query Processing and Indexing Techniques'}\n",
    "    }), {'title' : 1, 'code': 1}\n",
    "], db.storage)"
   ]
  }
 ],
 "metadata": {
  "kernelspec": {
   "display_name": "Python 3",
   "language": "python",
   "name": "python3"
  },
  "language_info": {
   "codemirror_mode": {
    "name": "ipython",
    "version": 3
   },
   "file_extension": ".py",
   "mimetype": "text/x-python",
   "name": "python",
   "nbconvert_exporter": "python",
   "pygments_lexer": "ipython3",
   "version": "3.10.9"
  },
  "orig_nbformat": 4,
  "vscode": {
   "interpreter": {
    "hash": "b0fa6594d8f4cbf19f97940f81e996739fb7646882a419484c72d19e05852a7e"
   }
  }
 },
 "nbformat": 4,
 "nbformat_minor": 2
}
